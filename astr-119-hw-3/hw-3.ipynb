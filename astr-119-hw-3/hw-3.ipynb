{
 "cells": [
  {
   "cell_type": "markdown",
   "id": "0415259e",
   "metadata": {},
   "source": [
    "# Homework 3 Jupyter Notebook"
   ]
  },
  {
   "cell_type": "code",
   "execution_count": null,
   "id": "b2df9a4d",
   "metadata": {},
   "outputs": [],
   "source": [
    "%matplotlib inline\n",
    "import numpy as np\n",
    "import matplotlib.pyplot as plt"
   ]
  },
  {
   "cell_type": "markdown",
   "id": "96a44805",
   "metadata": {},
   "source": [
    "### Defining array x and functions of x"
   ]
  },
  {
   "cell_type": "code",
   "execution_count": null,
   "id": "ca308c17",
   "metadata": {},
   "outputs": [],
   "source": [
    "#define the array of x = [0,2*pi] inclusive with 1000 values\n",
    "x = np.linspace(0,2*np.pi,1000)\n",
    "\n",
    "#define the following functions\n",
    "y = 5.5 * np.cos(2*x) + 5.5\n",
    "z = 0.02 * np.exp(x)\n",
    "w = (0.25 * x**2) + (0.1*np.sin(10*x))"
   ]
  },
  {
   "cell_type": "markdown",
   "id": "dab02a04",
   "metadata": {},
   "source": [
    "### Graphing multiple functions on a single plot"
   ]
  },
  {
   "cell_type": "code",
   "execution_count": null,
   "id": "e1690f27",
   "metadata": {},
   "outputs": [],
   "source": [
    "#Plotting the 3 functions on the same graph\n",
    "plt.plot(x,y)\n",
    "plt.plot(x,z)\n",
    "plt.plot(x,w)\n",
    "\n",
    "#Setting the ranges shown on the graph\n",
    "plt.xlim([0,2*np.pi])\n",
    "plt.ylim([-1,10])\n",
    "\n",
    "#Labeling the graph\n",
    "plt.title(r'$Practicing-Programming$')\n",
    "plt.xlabel(r'$Time-in-ASTR-119$')\n",
    "plt.ylabel(r'$Measures-of-Awesomeness$')\n",
    "plt.show()"
   ]
  },
  {
   "cell_type": "code",
   "execution_count": null,
   "id": "664b6352",
   "metadata": {},
   "outputs": [],
   "source": []
  }
 ],
 "metadata": {
  "kernelspec": {
   "display_name": "Python 3 (ipykernel)",
   "language": "python",
   "name": "python3"
  },
  "language_info": {
   "codemirror_mode": {
    "name": "ipython",
    "version": 3
   },
   "file_extension": ".py",
   "mimetype": "text/x-python",
   "name": "python",
   "nbconvert_exporter": "python",
   "pygments_lexer": "ipython3",
   "version": "3.9.7"
  }
 },
 "nbformat": 4,
 "nbformat_minor": 5
}
