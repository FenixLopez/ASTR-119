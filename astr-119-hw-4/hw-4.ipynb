{
 "cells": [
  {
   "cell_type": "markdown",
   "id": "a43fc64b",
   "metadata": {},
   "source": [
    "## Using the Bisection Root Finding Algorithm"
   ]
  },
  {
   "cell_type": "markdown",
   "id": "25016915",
   "metadata": {},
   "source": [
    "For this notebook, we want to use bisection root finding to determine the two roots of the quadratic f(x) = 1.01x^2 - 3.04x + 2.07"
   ]
  },
  {
   "cell_type": "code",
   "execution_count": null,
   "id": "ba844419",
   "metadata": {},
   "outputs": [],
   "source": [
    "%matplotlib inline\n",
    "import numpy as np\n",
    "import matplotlib.pyplot as plt"
   ]
  },
  {
   "cell_type": "markdown",
   "id": "f265ec99",
   "metadata": {},
   "source": [
    "Defining the quadratic as a function"
   ]
  },
  {
   "cell_type": "code",
   "execution_count": null,
   "id": "2a1216c2",
   "metadata": {},
   "outputs": [],
   "source": [
    "def function_for_roots(x):\n",
    "    a = 1.01\n",
    "    b = -3.04\n",
    "    c = 2.07\n",
    "    return a*x**2 + b*x + c #get the roots of ax^2 + bx + c (quadratic)"
   ]
  },
  {
   "cell_type": "markdown",
   "id": "5838ef42",
   "metadata": {},
   "source": [
    "A function to check the validity of initial inputs"
   ]
  },
  {
   "cell_type": "code",
   "execution_count": null,
   "id": "4cd44137",
   "metadata": {},
   "outputs": [],
   "source": [
    "def check_initial_values(f, x_min, x_max, tol): #declare variable place-holders in declaration of function itself for variables we want to pass to it\n",
    "    \n",
    "    #check our initial guesses\n",
    "    y_min = f(x_min)\n",
    "    y_max = f(x_max)\n",
    "    \n",
    "    #check that x_min and x_max contain a zero (a root!)\n",
    "    if(y_min*y_max>=0.0): #if ymin * ymax is positive, does not contain zero\n",
    "        print(\"No zero crossing found in the range = \", x_min,x_max)  #alert the user!\n",
    "        s = \"func(%f) = %f, func(%f) = %f\" %(x_min,y_min,x_max,y_max) # %inserts variables sequentially\n",
    "        print(s)\n",
    "        return 0\n",
    "    \n",
    "    #if x_min is a root, then return flag == 1\n",
    "    if(np.fabs(y_min)<tol):\n",
    "        return 1\n",
    "    \n",
    "    #if x_max is a root, then return flag == 2\n",
    "    if(np.fabs(y_min)<tol):\n",
    "        return 2\n",
    "    \n",
    "    #if we reach this point, the bracket is valid - did not luckily guess a root\n",
    "    #and we will return 3\n",
    "    return 3\n"
   ]
  },
  {
   "cell_type": "markdown",
   "id": "ae24f430",
   "metadata": {},
   "source": [
    "A function to conduct the bisection root finding once inputs have been validated"
   ]
  },
  {
   "cell_type": "code",
   "execution_count": null,
   "id": "15098708",
   "metadata": {},
   "outputs": [],
   "source": [
    "def bisection_root_finding(f, x_min_start,x_max_start,tol):\n",
    "    \n",
    "    #this function uses bisection search to find the root\n",
    "    \n",
    "    x_min = x_min_start #minimum x in bracket\n",
    "    x_max = x_max_start #maximum x in bracket\n",
    "    x_mid = 0.0         #mid point\n",
    "    \n",
    "    y_min = f(x_min)    #function value at x_min\n",
    "    y_max = f(x_max)    #function value at x_max\n",
    "    y_mid = 0.0         #mid point\n",
    "    \n",
    "    i_max = 10000       #set a maximum number of iterations\n",
    "    i = 0               #iteration counter\n",
    "    \n",
    "    #check the initial values\n",
    "    flag = check_initial_values(f, x_min, x_max, tol) \n",
    "    if(flag==0):\n",
    "        print(\"Error in bisection_root_finding().\")\n",
    "        raise ValueError('Initial values invalid', x_min, x_max)\n",
    "    elif(flag==1):\n",
    "        #lucky guess!\n",
    "        return x_min\n",
    "    elif(flag==2):\n",
    "        #the other side of the bracket was the lucky guess!\n",
    "        return x_max\n",
    "    \n",
    "    #If we reach here, then we need to conduct the search (no lucky guesses)\n",
    "    \n",
    "    #set a flag\n",
    "    flag = 1  #note: true = 1\n",
    "    \n",
    "    #enter a while loop\n",
    "    while(flag):\n",
    "        x_mid = 0.5*(x_min+x_max)  #mid point calculation\n",
    "        y_mid = f(x_mid)           #function value at x_mid\n",
    "        \n",
    "        #check if x_mid is a root\n",
    "        if(np.fabs(y_mid)<tol):  #if midpoint less that tolerance, thats a root!\n",
    "            flag = 0 #false = 0, exit the loop\n",
    "        else:\n",
    "            #x_mid is not the root, another iteration\n",
    "            \n",
    "            #if the product of the function at the midpoint\n",
    "            #and at the one of the end points is greater than\n",
    "            #zero, replace this end point\n",
    "            #Determine which bracket contacts a root, which product is negative\n",
    "            if(f(x_min)*f(x_mid)>0):\n",
    "                #replace x_min with x_mid\n",
    "                x_min = x_mid\n",
    "            else:\n",
    "                #replace x_max with x_mid\n",
    "                x_max = x_mid\n",
    "                \n",
    "        #print out the iteration - show getting closer and closer to root\n",
    "        print(x_min,f(x_min),x_max,f(x_max))\n",
    "        \n",
    "        #count the iteration\n",
    "        i+=1\n",
    "        \n",
    "        #if we have exceeded the max number\n",
    "        #of iterations, exit\n",
    "        if(i>=i_max):\n",
    "            print(\"Exceeded max number of iterations = \", i)\n",
    "            s = \"Min bracket f(&f) = %f\" %(x_min,f(x_min))\n",
    "            print(s)\n",
    "            s = \"Max bracket f(&f) = %f\" %(x_max,f(x_max))\n",
    "            print(s)\n",
    "            s = \"Mid bracket f(&f) = %f\" %(x_mid,f(x_mid))\n",
    "            print(s)\n",
    "            raise StopIteration('Stopping iterations after', i)\n",
    "    #Found root!\n",
    "    return x_mid    "
   ]
  },
  {
   "cell_type": "markdown",
   "id": "0130386d",
   "metadata": {},
   "source": [
    "A function to return the index of iterations"
   ]
  },
  {
   "cell_type": "code",
   "execution_count": null,
   "id": "9312a86b",
   "metadata": {},
   "outputs": [],
   "source": [
    "def iteration_index(f, x_min_start,x_max_start,tol):\n",
    "    \n",
    "    #this function uses bisection search to find the root\n",
    "    \n",
    "    x_min = x_min_start #minimum x in bracket\n",
    "    x_max = x_max_start #maximum x in bracket\n",
    "    x_mid = 0.0         #mid point\n",
    "    \n",
    "    y_min = f(x_min)    #function value at x_min\n",
    "    y_max = f(x_max)    #function value at x_max\n",
    "    y_mid = 0.0         #mid point\n",
    "    \n",
    "    i_max = 10000       #set a maximum number of iterations\n",
    "    i = 0               #iteration counter\n",
    "    \n",
    "    #check the initial values\n",
    "    flag = check_initial_values(f, x_min, x_max, tol) \n",
    "    if(flag==0):\n",
    "        print(\"Error in bisection_root_finding().\")\n",
    "        raise ValueError('Initial values invalid', x_min, x_max)\n",
    "    elif(flag==1):\n",
    "        #lucky guess!\n",
    "        return x_min\n",
    "    elif(flag==2):\n",
    "        #the other side of the bracket was the lucky guess!\n",
    "        return x_max\n",
    "    \n",
    "    #If we reach here, then we need to conduct the search (no lucky guesses)\n",
    "    \n",
    "    #set a flag\n",
    "    flag = 1  #note: true = 1\n",
    "    \n",
    "    #enter a while loop\n",
    "    while(flag):\n",
    "        x_mid = 0.5*(x_min+x_max)  #mid point calculation\n",
    "        y_mid = f(x_mid)           #function value at x_mid\n",
    "        \n",
    "        #check if x_mid is a root\n",
    "        if(np.fabs(y_mid)<tol):  #if midpoint less that tolerance, thats a root!\n",
    "            flag = 0 #false = 0, exit the loop\n",
    "        else:\n",
    "            #x_mid is not the root, another iteration\n",
    "            \n",
    "            #if the product of the function at the midpoint\n",
    "            #and at the one of the end points is greater than\n",
    "            #zero, replace this end point\n",
    "            #Determine which bracket contacts a root, which product is negative\n",
    "            if(f(x_min)*f(x_mid)>0):\n",
    "                #replace x_min with x_mid\n",
    "                x_min = x_mid\n",
    "            else:\n",
    "                #replace x_max with x_mid\n",
    "                x_max = x_mid\n",
    "        \n",
    "        #count the iteration\n",
    "        i+=1\n",
    "        \n",
    "        #if we have exceeded the max number\n",
    "        #of iterations, exit\n",
    "        if(i>=i_max):\n",
    "            print(\"Exceeded max number of iterations = \", i)\n",
    "            s = \"Min bracket f(&f) = %f\" %(x_min,f(x_min))\n",
    "            print(s)\n",
    "            s = \"Max bracket f(&f) = %f\" %(x_max,f(x_max))\n",
    "            print(s)\n",
    "            s = \"Mid bracket f(&f) = %f\" %(x_mid,f(x_mid))\n",
    "            print(s)\n",
    "            raise StopIteration('Stopping iterations after', i)\n",
    "    #Found root!\n",
    "    return i  "
   ]
  },
  {
   "cell_type": "markdown",
   "id": "3b55b141",
   "metadata": {},
   "source": [
    "### Finding the roots of the quadratic"
   ]
  },
  {
   "cell_type": "markdown",
   "id": "e1eea236",
   "metadata": {},
   "source": [
    "Finding Root 1"
   ]
  },
  {
   "cell_type": "code",
   "execution_count": null,
   "id": "4a422a67",
   "metadata": {},
   "outputs": [],
   "source": [
    "#Finding the 1st root\n",
    "x_min_1 = 0.5\n",
    "x_max_1 = 1.5\n",
    "tolerance = 1.06e-6\n",
    "\n",
    "#print the initial guess\n",
    "print('Initial x_min_1 guess: ', x_min_1, function_for_roots(x_min_1))\n",
    "print('Initial x_max_1 guess: ', x_max_1, function_for_roots(x_max_1))\n",
    "\n",
    "x_root_1 = bisection_root_finding(function_for_roots,x_min_1,x_max_1,tolerance) #make sure matches the order of variables in functions you are calling\n",
    "y_root_1 = function_for_roots(x_root_1)\n",
    "i_final_1 = iteration_index(function_for_roots,x_min_1,x_max_1,tolerance)\n",
    "\n",
    "s_1 = \"Root 1 found with y(%f) = %f\" %(x_root_1,y_root_1)\n",
    "t_1 = \"Number of iterations needed for convergence: %i \" %(i_final_1)\n",
    "print(s_1)\n",
    "print(t_1)"
   ]
  },
  {
   "cell_type": "markdown",
   "id": "8275f020",
   "metadata": {},
   "source": [
    "Finding Root 2"
   ]
  },
  {
   "cell_type": "code",
   "execution_count": null,
   "id": "54edb234",
   "metadata": {},
   "outputs": [],
   "source": [
    "#Finding the 2nd root\n",
    "x_min_2 = 1.8\n",
    "x_max_2 = 2.5\n",
    "tolerance = 1.06e-6\n",
    "\n",
    "#print the initial guess\n",
    "print('Initial x_min_2 guess: ', x_min_2, function_for_roots(x_min_2))\n",
    "print('Initial x_max_2 guess: ', x_max_2, function_for_roots(x_max_2))\n",
    "\n",
    "x_root_2 = bisection_root_finding(function_for_roots,x_min_2,x_max_2,tolerance) #make sure matches the order of variables in functions you are calling\n",
    "y_root_2 = function_for_roots(x_root_2)\n",
    "i_final_2 = iteration_index(function_for_roots,x_min,x_max,tolerance)\n",
    "\n",
    "s_2 = \"Root 2 found with y(%f) = %f\" %(x_root_2,y_root_2)\n",
    "t_2 = \"Number of iterations needed for convergence: %i \" %(i_final_2)\n",
    "print(s_2)\n",
    "print(t_2)\n"
   ]
  },
  {
   "cell_type": "markdown",
   "id": "f5a2a7e6",
   "metadata": {},
   "source": [
    "Plotting the quadratic, indicating initial bracket values and roots"
   ]
  },
  {
   "cell_type": "code",
   "execution_count": null,
   "id": "4b9dddc1",
   "metadata": {},
   "outputs": [],
   "source": [
    "#Define the array of x = [0,3] inclusive with 1000 values\n",
    "x = np.linspace(0,3,1000)\n",
    "\n",
    "#Define y = f(x)\n",
    "y = function_for_roots(x)\n",
    "#Defining a horizontal line\n",
    "z = x * 0\n",
    "\n",
    "#Plotting the functions\n",
    "plt.plot(x,y) #quadratic\n",
    "plt.plot(x,z) #horizontal line\n",
    "\n",
    "#Plotting Brackets for 1st root\n",
    "plt.errorbar(x_min_1,function_for_roots(x_min_1),fmt='o', label='x_min_1')\n",
    "plt.errorbar(x_max_1,function_for_roots(x_max_1),fmt='o', label='x_max_1')\n",
    "\n",
    "#Plotting 1st root\n",
    "plt.errorbar(x_root_1,y_root_2,fmt='o', label='Root 1')\n",
    "\n",
    "#Plotting Brackets for 2nd root\n",
    "plt.errorbar(x_min_2,function_for_roots(x_min_2),fmt='o', label='x_min_2')\n",
    "plt.errorbar(x_max_2,function_for_roots(x_max_2),fmt='o', label='x_max_2')\n",
    "\n",
    "#Plotting 2nd root\n",
    "plt.errorbar(x_root_2,y_root_2,fmt='o', label='Root 2')\n",
    "\n",
    "#Setting the ranges shown on the graph\n",
    "plt.xlim([0,3])\n",
    "plt.ylim([-0.5,2.1])\n",
    "\n",
    "#Labeling the graph\n",
    "plt.title(r'$Roots-of-a-Quadratic$')\n",
    "plt.xlabel(r'$x$')\n",
    "plt.ylabel(r'$f(x)$')\n",
    "plt.legend(loc=10,frameon=True)\n",
    "plt.show()"
   ]
  },
  {
   "cell_type": "code",
   "execution_count": null,
   "id": "e93bad86",
   "metadata": {},
   "outputs": [],
   "source": []
  }
 ],
 "metadata": {
  "kernelspec": {
   "display_name": "Python 3 (ipykernel)",
   "language": "python",
   "name": "python3"
  },
  "language_info": {
   "codemirror_mode": {
    "name": "ipython",
    "version": 3
   },
   "file_extension": ".py",
   "mimetype": "text/x-python",
   "name": "python",
   "nbconvert_exporter": "python",
   "pygments_lexer": "ipython3",
   "version": "3.9.7"
  }
 },
 "nbformat": 4,
 "nbformat_minor": 5
}
