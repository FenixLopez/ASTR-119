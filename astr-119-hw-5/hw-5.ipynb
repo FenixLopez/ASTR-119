{
 "cells": [
  {
   "cell_type": "markdown",
   "id": "9d2864cd",
   "metadata": {},
   "source": [
    "# Using different numerical integration schemes to evaluate the function\n",
    "## f(x) = exp(-2x)cos(10x)"
   ]
  },
  {
   "cell_type": "code",
   "execution_count": null,
   "id": "fb037a05",
   "metadata": {},
   "outputs": [],
   "source": [
    "%matplotlib inline\n",
    "import numpy as np\n",
    "import matplotlib.pyplot as plt"
   ]
  },
  {
   "cell_type": "markdown",
   "id": "10599899",
   "metadata": {},
   "source": [
    "## Defining the function to integrate"
   ]
  },
  {
   "cell_type": "code",
   "execution_count": null,
   "id": "3d63677b",
   "metadata": {},
   "outputs": [],
   "source": [
    "def fxn(x):\n",
    "    a = -2.\n",
    "    b = 10.\n",
    "    # the function is f(x) = exp(-2x)cos(10x)\n",
    "    return np.exp(a*x)*np.cos(b*x)"
   ]
  },
  {
   "cell_type": "markdown",
   "id": "85e37a13",
   "metadata": {},
   "source": [
    "## Defining the integral analytically for future comparison"
   ]
  },
  {
   "cell_type": "code",
   "execution_count": null,
   "id": "d699190d",
   "metadata": {},
   "outputs": [],
   "source": [
    "#Solved the integral separately\n",
    "#Since this is for a definite integral, assume integration constants are zero\n",
    "def fxn_int(x):\n",
    "    a = -1/52\n",
    "    b = 5/52\n",
    "    c = -2\n",
    "    d = 10\n",
    "    # the integrated function is -1/52 exp(-2x)cos(10x) + 5/52 exp(-2x)sin(10x)\n",
    "    return (a*np.exp(c*x)*np.cos(d*x)) + (b*np.exp(c*x)*np.sin(d*x))"
   ]
  },
  {
   "cell_type": "markdown",
   "id": "d779ebbf",
   "metadata": {},
   "source": [
    "## Modules for the Trapezoid Method"
   ]
  },
  {
   "cell_type": "markdown",
   "id": "d6049a74",
   "metadata": {},
   "source": [
    "### Defining the Trapezoid Method Core"
   ]
  },
  {
   "cell_type": "code",
   "execution_count": null,
   "id": "145759bf",
   "metadata": {},
   "outputs": [],
   "source": [
    "#this performs the scheme over a single integral\n",
    "def trapezoid_core(f,x,h):   \n",
    "    #f is the function being integrated\n",
    "    #x is the left side of the interval\n",
    "    #h is the width of the interval\n",
    "    #area of a trapezoid is A = 0.5h(b1 + b2)\n",
    "    return 0.5*h*(f(x+h)+f(x)) #this is the left side of the interval"
   ]
  },
  {
   "cell_type": "markdown",
   "id": "bdb95c6e",
   "metadata": {},
   "source": [
    "### Defining the Trapezoid Method Wrapper Function"
   ]
  },
  {
   "cell_type": "code",
   "execution_count": null,
   "id": "9f72e9a6",
   "metadata": {},
   "outputs": [],
   "source": [
    "#this performs the scheme of totalling up the intervals\n",
    "def trapezoid_method(f,a,b,N):\n",
    "    #f is the function to integrate\n",
    "    #a is the lower limit of integration\n",
    "    #b is the upper limit of integration\n",
    "    #N is the number of function evaluations to use\n",
    "    \n",
    "    #define x values to perform trapezoid rule (an array)\n",
    "    #recall the trapezoid method evals at x and x(i+1)\n",
    "    x = np.linspace(a,b,N) #an array of size N going from a to b with linear spacing\n",
    "    h = x[1]-x[0] #this is the width, array has equal separation so only need once\n",
    "    \n",
    "    #define the value of the integral (sum of intervals)\n",
    "    Fint = 0.0\n",
    "    \n",
    "    #perform the integral using the trapezoid method\n",
    "    #the region (and therefore loop) with N locations, have (N-1) intervals\n",
    "    #left hand side with stop at N-2 to not include rightmost element\n",
    "    for i in range(0,len(x)-1,1): #will do a loop from 0 to (N-2)th element, step of 1\n",
    "        Fint += trapezoid_core(f,x[i],h)\n",
    "        \n",
    "    #return the answer - sum of areas of all the trapezoids\n",
    "    return Fint"
   ]
  },
  {
   "cell_type": "markdown",
   "id": "79db6434",
   "metadata": {},
   "source": [
    "## Modules for the Simpson's Method"
   ]
  },
  {
   "cell_type": "markdown",
   "id": "c8cc3c69",
   "metadata": {},
   "source": [
    "### Defining the Simpson's Method Core"
   ]
  },
  {
   "cell_type": "code",
   "execution_count": null,
   "id": "c948203f",
   "metadata": {},
   "outputs": [],
   "source": [
    "#This integrates a single interval\n",
    "#This is a piecewise parabolic and will be summing 2 intervals at a time\n",
    "# h* (1/3 f(xi) + 4/3 f(xi+1) + 2/3 f(xi+2))\n",
    "def simpson_core(f,x,h):\n",
    "    #f is the function to be integrated\n",
    "    #x is the ith x element\n",
    "    #h is the width of the interval\n",
    "    return h*(f(x) + 4*f(x+h) + f(x + 2*h))/3"
   ]
  },
  {
   "cell_type": "markdown",
   "id": "09e9365a",
   "metadata": {},
   "source": [
    "### Defining the Simpson's Method Wrapper Function"
   ]
  },
  {
   "cell_type": "code",
   "execution_count": null,
   "id": "15517411",
   "metadata": {},
   "outputs": [],
   "source": [
    "#This sums up the intervals\n",
    "def simpsons_method(f,a,b,N):\n",
    "    #f == function to integrate\n",
    "    #a == lower limit of integration\n",
    "    #b == upper limit of integration\n",
    "    #N == number of function evaluations to use\n",
    "    #note that number of chunks will be N-1\n",
    "    #so if N is odd, then we don't need to adjust the last segment\n",
    "        #since we eval 2 chunks at a time\n",
    "    \n",
    "    #define x values to perform simpsons rule (an array)\n",
    "    x = np.linspace(a,b,N) #an array of size N going from a to b\n",
    "    h = x[1]-x[0] #this is the width, array has equal separation so only need once\n",
    "    \n",
    "    #define the value of the integral\n",
    "    Fint = 0.0\n",
    "    \n",
    "    #perform the integral using the Simpson's method\n",
    "    for i in range(0,len(x)-2,2): #will do a loop from 0 to (N-3)th element, step of 2\n",
    "        Fint += simpson_core(f,x[i],h)\n",
    "        \n",
    "    #apply simpson's rule over the last interval\n",
    "    #if N is even\n",
    "    if ((N%2)==0): #N modulo 2 = 0 if even\n",
    "        #need to split inverval in half and perform simpson method for that last interval\n",
    "        Fint += simpson_core(f, x[-2], 0.5*h)\n",
    "        \n",
    "    #return the answer - sum of areas of all the parabolics\n",
    "    return Fint"
   ]
  },
  {
   "cell_type": "markdown",
   "id": "c891a739",
   "metadata": {},
   "source": [
    "## Modules for the Romberg Integration"
   ]
  },
  {
   "cell_type": "markdown",
   "id": "c83794d8",
   "metadata": {},
   "source": [
    "### Defining the Romberg Integration Core"
   ]
  },
  {
   "cell_type": "code",
   "execution_count": null,
   "id": "74efc96d",
   "metadata": {},
   "outputs": [],
   "source": [
    "def romberg_core(f,a,b,i):\n",
    "    #f == function to integrate\n",
    "    #a == lower limit of integration\n",
    "    #b == upper limit of integration\n",
    "    #i == level of refinement\n",
    "    \n",
    "    #we need the width difference b-a \n",
    "    h = b-a\n",
    "    \n",
    "    #interval between function evaluations at refinement level i\n",
    "    #the increment between new fxn evaluations\n",
    "    dh = h / (2.**(i))\n",
    "    \n",
    "    #we need the cofactor\n",
    "    #weights the sum of the fxn evaluations\n",
    "    K = h / (2.**(i+1))\n",
    "    \n",
    "    #value of the sum of the evaluations\n",
    "    M = 0.0  \n",
    "    for j in range(2**i):\n",
    "        #at every level of refinement i, we add additional function evaluations  \n",
    "        M += f(a+ 0.5*dh + j*dh) \n",
    "        \n",
    "    #return the answer\n",
    "    #sum multiplied by the correction factor\n",
    "    return K*M"
   ]
  },
  {
   "cell_type": "markdown",
   "id": "ad4abcff",
   "metadata": {},
   "source": [
    "### Defining the Romberg Integration Wrapper Function"
   ]
  },
  {
   "cell_type": "code",
   "execution_count": null,
   "id": "9bf1b19f",
   "metadata": {},
   "outputs": [],
   "source": [
    "def romberg_integration(f,a,b,tol):\n",
    "    \n",
    "    #define an iteration variable\n",
    "    i = 0\n",
    "    \n",
    "    #define a maximum number of iterations\n",
    "    imax = 1000 #will not even get close to this\n",
    "    \n",
    "    #define an error estimate, set to a large value\n",
    "    delta = 100.0*np.fabs(tol)\n",
    "    \n",
    "    #set an array of integral answers\n",
    "    I = np.zeros(imax,dtype=float)\n",
    "    \n",
    "    #get the zeroth romberg iteration\n",
    "    #this is the first approximation, \n",
    "    #really just trapezoidal rule over the whole domain [a,b]\n",
    "    I[0] = 0.5*(b-a)*(f(a)-f(b))  \n",
    "    \n",
    "    #iterate by 1\n",
    "    i += 1\n",
    "    \n",
    "    #call romberg core until the error is less than the tolerance\n",
    "    #iterate until then\n",
    "    while(delta>tol):\n",
    "        \n",
    "        #finding this romberg iteration\n",
    "        #1/2previous approx + correction term (romberg_core)\n",
    "        I[i] = 0.5*I[i-1] + romberg_core(f,a,b,i)  \n",
    "        \n",
    "        #compute the new fractional error estimate\n",
    "        delta = np.fabs( (I[i]-I[i-1])/I[i] )  #remember to use [] for elements in array!\n",
    "        \n",
    "        print(\"i:\",i, \"I[i]:\", I[i],\"I[i-1]:\", I[i-1], \"delta:\",delta)\n",
    "        \n",
    "        if(delta>tol):\n",
    "            \n",
    "            #iterate\n",
    "            i+=1\n",
    "            \n",
    "            #if we've reached the maximum iterations/intervals\n",
    "            if(i>imax):\n",
    "                print(\"Max iterations reached.\")\n",
    "                raise StopIteration('Stopping iterations after ',i)\n",
    "                \n",
    "    #printing number of iterations\n",
    "    print(\"Number of iterations:\", i)\n",
    "    \n",
    "    #return the answer\n",
    "    #same identation as while\n",
    "    return I[i]"
   ]
  },
  {
   "cell_type": "markdown",
   "id": "7a37ad82",
   "metadata": {},
   "source": [
    "## Using these methods to integrate the function"
   ]
  },
  {
   "cell_type": "code",
   "execution_count": null,
   "id": "1cd44e89",
   "metadata": {},
   "outputs": [],
   "source": [
    "Answer = fxn_int(np.pi)-fxn_int(0)\n",
    "print(\"True answer: \", Answer)\n",
    "print()\n",
    "\n",
    "print(\"Trapezoid\")\n",
    "print(\"Number of iterations: 3388\")\n",
    "print(trapezoid_method(fxn,0,np.pi,3388))  #from a=0 to b=1 in ten intervals\n",
    "print()\n",
    "\n",
    "print(\"Simpson's method\")\n",
    "print(\"Number of iterations: 141\")\n",
    "print(simpsons_method(fxn,0,np.pi,141))\n",
    "print()\n",
    "\n",
    "print(\"Romberg Integration\")\n",
    "tolerance = 1.0e-6\n",
    "RI = romberg_integration(fxn,0,np.pi,tolerance)\n",
    "print(\"Final answer:\", RI)\n",
    "print(\"Error:\", (RI-Answer)/Answer)\n",
    "print(\"Tolerance:\", tolerance)\n"
   ]
  },
  {
   "cell_type": "code",
   "execution_count": null,
   "id": "d4bb9130",
   "metadata": {},
   "outputs": [],
   "source": []
  }
 ],
 "metadata": {
  "kernelspec": {
   "display_name": "Python 3 (ipykernel)",
   "language": "python",
   "name": "python3"
  },
  "language_info": {
   "codemirror_mode": {
    "name": "ipython",
    "version": 3
   },
   "file_extension": ".py",
   "mimetype": "text/x-python",
   "name": "python",
   "nbconvert_exporter": "python",
   "pygments_lexer": "ipython3",
   "version": "3.9.7"
  }
 },
 "nbformat": 4,
 "nbformat_minor": 5
}
